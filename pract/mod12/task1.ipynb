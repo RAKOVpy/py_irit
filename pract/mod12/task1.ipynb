{
 "cells": [
  {
   "cell_type": "code",
   "execution_count": 1,
   "id": "6339a98d",
   "metadata": {},
   "outputs": [],
   "source": [
    "import pandas as pd\n",
    "import sqlite3"
   ]
  },
  {
   "cell_type": "code",
   "execution_count": 2,
   "id": "a8682b64",
   "metadata": {},
   "outputs": [],
   "source": [
    "con = sqlite3.connect(\"netflix.sqlite\")\n",
    "cur = con.cursor()\n",
    "df = pd.read_sql(\"select * from netflix_titles\", sqlite3.connect(\"netflix.sqlite\"))"
   ]
  },
  {
   "cell_type": "code",
   "execution_count": 3,
   "id": "727f1aab",
   "metadata": {},
   "outputs": [
    {
     "name": "stdout",
     "output_type": "stream",
     "text": [
      "6234\n",
      "6234\n"
     ]
    },
    {
     "data": {
      "text/html": [
       "<div>\n",
       "<style scoped>\n",
       "    .dataframe tbody tr th:only-of-type {\n",
       "        vertical-align: middle;\n",
       "    }\n",
       "\n",
       "    .dataframe tbody tr th {\n",
       "        vertical-align: top;\n",
       "    }\n",
       "\n",
       "    .dataframe thead th {\n",
       "        text-align: right;\n",
       "    }\n",
       "</style>\n",
       "<table border=\"1\" class=\"dataframe\">\n",
       "  <thead>\n",
       "    <tr style=\"text-align: right;\">\n",
       "      <th></th>\n",
       "      <th>show_id</th>\n",
       "      <th>type</th>\n",
       "      <th>title</th>\n",
       "      <th>director</th>\n",
       "      <th>cast</th>\n",
       "      <th>country</th>\n",
       "      <th>date_added</th>\n",
       "      <th>release_year</th>\n",
       "      <th>rating</th>\n",
       "      <th>duration</th>\n",
       "      <th>listed_in</th>\n",
       "      <th>description</th>\n",
       "    </tr>\n",
       "  </thead>\n",
       "  <tbody>\n",
       "    <tr>\n",
       "      <th>2728</th>\n",
       "      <td>80158580</td>\n",
       "      <td>Movie</td>\n",
       "      <td>Amelia: A Tale of Two Sisters</td>\n",
       "      <td>Edward Cotterill</td>\n",
       "      <td>Rachael Stirling</td>\n",
       "      <td>United Kingdom</td>\n",
       "      <td>June 1, 2017</td>\n",
       "      <td>2017</td>\n",
       "      <td>TV-PG</td>\n",
       "      <td>44 min</td>\n",
       "      <td>Documentaries</td>\n",
       "      <td>Eight decades after her disappearance, Amelia ...</td>\n",
       "    </tr>\n",
       "    <tr>\n",
       "      <th>4693</th>\n",
       "      <td>70236586</td>\n",
       "      <td>Movie</td>\n",
       "      <td>Tezz</td>\n",
       "      <td>Priyadarshan</td>\n",
       "      <td>Anil Kapoor, Ajay Devgn, Boman Irani, Kangna R...</td>\n",
       "      <td>United Kingdom, India</td>\n",
       "      <td>December 1, 2017</td>\n",
       "      <td>2012</td>\n",
       "      <td>TV-MA</td>\n",
       "      <td>121 min</td>\n",
       "      <td>Action &amp; Adventure, International Movies, Musi...</td>\n",
       "      <td>This high-octane thriller tells the story of a...</td>\n",
       "    </tr>\n",
       "    <tr>\n",
       "      <th>664</th>\n",
       "      <td>80177406</td>\n",
       "      <td>Movie</td>\n",
       "      <td>Patton Oswalt: Annihilation</td>\n",
       "      <td>Bobcat Goldthwait</td>\n",
       "      <td>Patton Oswalt</td>\n",
       "      <td>United States</td>\n",
       "      <td>October 17, 2017</td>\n",
       "      <td>2017</td>\n",
       "      <td>TV-MA</td>\n",
       "      <td>66 min</td>\n",
       "      <td>Stand-Up Comedy</td>\n",
       "      <td>By turns scathing and candid, Patton Oswalt re...</td>\n",
       "    </tr>\n",
       "  </tbody>\n",
       "</table>\n",
       "</div>"
      ],
      "text/plain": [
       "       show_id   type                          title           director  \\\n",
       "2728  80158580  Movie  Amelia: A Tale of Two Sisters   Edward Cotterill   \n",
       "4693  70236586  Movie                           Tezz       Priyadarshan   \n",
       "664   80177406  Movie    Patton Oswalt: Annihilation  Bobcat Goldthwait   \n",
       "\n",
       "                                                   cast  \\\n",
       "2728                                   Rachael Stirling   \n",
       "4693  Anil Kapoor, Ajay Devgn, Boman Irani, Kangna R...   \n",
       "664                                       Patton Oswalt   \n",
       "\n",
       "                    country        date_added  release_year rating duration  \\\n",
       "2728         United Kingdom      June 1, 2017          2017  TV-PG   44 min   \n",
       "4693  United Kingdom, India  December 1, 2017          2012  TV-MA  121 min   \n",
       "664           United States  October 17, 2017          2017  TV-MA   66 min   \n",
       "\n",
       "                                              listed_in  \\\n",
       "2728                                      Documentaries   \n",
       "4693  Action & Adventure, International Movies, Musi...   \n",
       "664                                     Stand-Up Comedy   \n",
       "\n",
       "                                            description  \n",
       "2728  Eight decades after her disappearance, Amelia ...  \n",
       "4693  This high-octane thriller tells the story of a...  \n",
       "664   By turns scathing and candid, Patton Oswalt re...  "
      ]
     },
     "execution_count": 3,
     "metadata": {},
     "output_type": "execute_result"
    }
   ],
   "source": [
    "print(df['show_id'].shape[0])\n",
    "print(len(df['show_id'].unique()))\n",
    "df.sample(3)"
   ]
  },
  {
   "cell_type": "code",
   "execution_count": 4,
   "id": "b7e88166",
   "metadata": {},
   "outputs": [],
   "source": [
    "actors_df = df['cast'].str.split(', ')"
   ]
  },
  {
   "cell_type": "code",
   "execution_count": 5,
   "id": "dfe827d3",
   "metadata": {},
   "outputs": [
    {
     "data": {
      "text/plain": [
       "27405"
      ]
     },
     "execution_count": 5,
     "metadata": {},
     "output_type": "execute_result"
    }
   ],
   "source": [
    "actors = set()\n",
    "for line in actors_df:\n",
    "    for actor in line:\n",
    "        t = actor.strip()\n",
    "        if t != '':\n",
    "            actors.add(t)\n",
    "len(actors)"
   ]
  },
  {
   "cell_type": "code",
   "execution_count": 6,
   "id": "ce050679",
   "metadata": {},
   "outputs": [],
   "source": [
    "with con: \n",
    "    cur.execute(\"\"\"\n",
    "        CREATE TABLE IF NOT EXISTS actor (\n",
    "            id INTEGER NOT NULL PRIMARY KEY AUTOINCREMENT,\n",
    "            name TEXT\n",
    "        );\n",
    "    \"\"\")"
   ]
  },
  {
   "cell_type": "code",
   "execution_count": 7,
   "id": "810568af",
   "metadata": {},
   "outputs": [],
   "source": [
    "with con:\n",
    "    for actor in actors:\n",
    "        cur.execute(\"INSERT INTO actor (name) values(?)\", (actor,))"
   ]
  },
  {
   "cell_type": "code",
   "execution_count": 8,
   "id": "fff115a6",
   "metadata": {},
   "outputs": [],
   "source": [
    "with con: \n",
    "    cur.execute(\"\"\"\n",
    "        CREATE TABLE IF NOT EXISTS actor_show (\n",
    "            actor TEXT,\n",
    "            show_id INT\n",
    "        );\n",
    "    \"\"\")"
   ]
  },
  {
   "cell_type": "code",
   "execution_count": 9,
   "id": "d3204c2f",
   "metadata": {},
   "outputs": [
    {
     "name": "stdout",
     "output_type": "stream",
     "text": [
      "CPU times: total: 1min 13s\n",
      "Wall time: 4min 52s\n"
     ]
    }
   ],
   "source": [
    "%%time\n",
    "count_last_upd = len(df)\n",
    "for i in range(len(df) - count_last_upd, len(df)):\n",
    "    for actor in actors_df.iloc[i]:\n",
    "        if not actor:\n",
    "            continue\n",
    "        with con:\n",
    "            cur.execute(\"INSERT INTO actor_show (actor, show_id) values(?, ?)\", (actor, int(df.iloc[i]['show_id'])))"
   ]
  },
  {
   "cell_type": "code",
   "execution_count": 10,
   "id": "72630fec",
   "metadata": {},
   "outputs": [
    {
     "data": {
      "text/html": [
       "<div>\n",
       "<style scoped>\n",
       "    .dataframe tbody tr th:only-of-type {\n",
       "        vertical-align: middle;\n",
       "    }\n",
       "\n",
       "    .dataframe tbody tr th {\n",
       "        vertical-align: top;\n",
       "    }\n",
       "\n",
       "    .dataframe thead th {\n",
       "        text-align: right;\n",
       "    }\n",
       "</style>\n",
       "<table border=\"1\" class=\"dataframe\">\n",
       "  <thead>\n",
       "    <tr style=\"text-align: right;\">\n",
       "      <th></th>\n",
       "      <th>actor</th>\n",
       "      <th>show_id</th>\n",
       "    </tr>\n",
       "  </thead>\n",
       "  <tbody>\n",
       "    <tr>\n",
       "      <th>0</th>\n",
       "      <td>Alan Marriott</td>\n",
       "      <td>81145628</td>\n",
       "    </tr>\n",
       "    <tr>\n",
       "      <th>1</th>\n",
       "      <td>Andrew Toth</td>\n",
       "      <td>81145628</td>\n",
       "    </tr>\n",
       "    <tr>\n",
       "      <th>2</th>\n",
       "      <td>Brian Dobson</td>\n",
       "      <td>81145628</td>\n",
       "    </tr>\n",
       "    <tr>\n",
       "      <th>3</th>\n",
       "      <td>Cole Howard</td>\n",
       "      <td>81145628</td>\n",
       "    </tr>\n",
       "    <tr>\n",
       "      <th>4</th>\n",
       "      <td>Jennifer Cameron</td>\n",
       "      <td>81145628</td>\n",
       "    </tr>\n",
       "    <tr>\n",
       "      <th>...</th>\n",
       "      <td>...</td>\n",
       "      <td>...</td>\n",
       "    </tr>\n",
       "    <tr>\n",
       "      <th>44306</th>\n",
       "      <td>Courteney Cox</td>\n",
       "      <td>70153404</td>\n",
       "    </tr>\n",
       "    <tr>\n",
       "      <th>44307</th>\n",
       "      <td>Lisa Kudrow</td>\n",
       "      <td>70153404</td>\n",
       "    </tr>\n",
       "    <tr>\n",
       "      <th>44308</th>\n",
       "      <td>Matt LeBlanc</td>\n",
       "      <td>70153404</td>\n",
       "    </tr>\n",
       "    <tr>\n",
       "      <th>44309</th>\n",
       "      <td>Matthew Perry</td>\n",
       "      <td>70153404</td>\n",
       "    </tr>\n",
       "    <tr>\n",
       "      <th>44310</th>\n",
       "      <td>David Schwimmer</td>\n",
       "      <td>70153404</td>\n",
       "    </tr>\n",
       "  </tbody>\n",
       "</table>\n",
       "<p>44311 rows × 2 columns</p>\n",
       "</div>"
      ],
      "text/plain": [
       "                  actor   show_id\n",
       "0         Alan Marriott  81145628\n",
       "1           Andrew Toth  81145628\n",
       "2          Brian Dobson  81145628\n",
       "3           Cole Howard  81145628\n",
       "4      Jennifer Cameron  81145628\n",
       "...                 ...       ...\n",
       "44306     Courteney Cox  70153404\n",
       "44307       Lisa Kudrow  70153404\n",
       "44308      Matt LeBlanc  70153404\n",
       "44309     Matthew Perry  70153404\n",
       "44310   David Schwimmer  70153404\n",
       "\n",
       "[44311 rows x 2 columns]"
      ]
     },
     "execution_count": 10,
     "metadata": {},
     "output_type": "execute_result"
    }
   ],
   "source": [
    "df_as = pd.read_sql(\"select * from actor_show\", sqlite3.connect(\"netflix.sqlite\"))\n",
    "df_as"
   ]
  },
  {
   "cell_type": "code",
   "execution_count": 11,
   "id": "e56eb431",
   "metadata": {},
   "outputs": [
    {
     "data": {
      "text/plain": [
       "('John Paul Tremblay', 'Robb Wells')"
      ]
     },
     "execution_count": 11,
     "metadata": {},
     "output_type": "execute_result"
    }
   ],
   "source": [
    "with con: \n",
    "    cur.execute(\"\"\"\n",
    "        SELECT t1.actor as value_1,\n",
    "               t2.actor as value_2,\n",
    "               count(t1.show_id)\n",
    "        FROM actor_show t1\n",
    "        CROSS JOIN\n",
    "               actor_show t2\n",
    "        where t1.show_id = t2.show_id and t1.actor != t2.actor\n",
    "        group by t1.actor, t2.actor\n",
    "        order by count(t1.show_id) DESC\n",
    "        limit 1\n",
    "    \"\"\")\n",
    "cur.fetchone()[:-1]"
   ]
  },
  {
   "cell_type": "code",
   "execution_count": 12,
   "id": "a60a5ba6",
   "metadata": {},
   "outputs": [],
   "source": [
    "cur.close()"
   ]
  }
 ],
 "metadata": {
  "kernelspec": {
   "display_name": "Python 3 (ipykernel)",
   "language": "python",
   "name": "python3"
  },
  "language_info": {
   "codemirror_mode": {
    "name": "ipython",
    "version": 3
   },
   "file_extension": ".py",
   "mimetype": "text/x-python",
   "name": "python",
   "nbconvert_exporter": "python",
   "pygments_lexer": "ipython3",
   "version": "3.10.8"
  }
 },
 "nbformat": 4,
 "nbformat_minor": 5
}
