{
 "cells": [
  {
   "cell_type": "code",
   "execution_count": 1,
   "id": "6339a98d",
   "metadata": {},
   "outputs": [],
   "source": [
    "import pandas as pd\n",
    "import sqlite3"
   ]
  },
  {
   "cell_type": "code",
   "execution_count": 2,
   "id": "a8682b64",
   "metadata": {},
   "outputs": [],
   "source": [
    "con = sqlite3.connect(\"netflix.sqlite\")\n",
    "cur = con.cursor()\n",
    "df = pd.read_sql(\"select * from netflix_titles\", sqlite3.connect(\"netflix.sqlite\"))"
   ]
  },
  {
   "cell_type": "code",
   "execution_count": 3,
   "id": "727f1aab",
   "metadata": {},
   "outputs": [
    {
     "name": "stdout",
     "output_type": "stream",
     "text": [
      "6234\n",
      "6234\n"
     ]
    },
    {
     "data": {
      "text/html": [
       "<div>\n",
       "<style scoped>\n",
       "    .dataframe tbody tr th:only-of-type {\n",
       "        vertical-align: middle;\n",
       "    }\n",
       "\n",
       "    .dataframe tbody tr th {\n",
       "        vertical-align: top;\n",
       "    }\n",
       "\n",
       "    .dataframe thead th {\n",
       "        text-align: right;\n",
       "    }\n",
       "</style>\n",
       "<table border=\"1\" class=\"dataframe\">\n",
       "  <thead>\n",
       "    <tr style=\"text-align: right;\">\n",
       "      <th></th>\n",
       "      <th>show_id</th>\n",
       "      <th>type</th>\n",
       "      <th>title</th>\n",
       "      <th>director</th>\n",
       "      <th>cast</th>\n",
       "      <th>country</th>\n",
       "      <th>date_added</th>\n",
       "      <th>release_year</th>\n",
       "      <th>rating</th>\n",
       "      <th>duration</th>\n",
       "      <th>listed_in</th>\n",
       "      <th>description</th>\n",
       "    </tr>\n",
       "  </thead>\n",
       "  <tbody>\n",
       "    <tr>\n",
       "      <th>6021</th>\n",
       "      <td>81008236</td>\n",
       "      <td>TV Show</td>\n",
       "      <td>COMEDIANS of the world</td>\n",
       "      <td></td>\n",
       "      <td>Neal Brennan, Chris D'Elia, Nicole Byer, Nick ...</td>\n",
       "      <td>United States</td>\n",
       "      <td>January 1, 2019</td>\n",
       "      <td>2019</td>\n",
       "      <td>TV-MA</td>\n",
       "      <td>13 Seasons</td>\n",
       "      <td>Stand-Up Comedy &amp; Talk Shows, TV Comedies</td>\n",
       "      <td>This global stand-up comedy series features a ...</td>\n",
       "    </tr>\n",
       "    <tr>\n",
       "      <th>4117</th>\n",
       "      <td>80223271</td>\n",
       "      <td>Movie</td>\n",
       "      <td>Nothing to Lose 2</td>\n",
       "      <td>Alexandre Avancini</td>\n",
       "      <td>Petrônio Gontijo, Day Mesquita, Beth Goulart, ...</td>\n",
       "      <td>Brazil</td>\n",
       "      <td>December 7, 2019</td>\n",
       "      <td>2019</td>\n",
       "      <td>PG-13</td>\n",
       "      <td>97 min</td>\n",
       "      <td>Dramas, Faith &amp; Spirituality, International Mo...</td>\n",
       "      <td>As controversy surrounds the evangelical churc...</td>\n",
       "    </tr>\n",
       "    <tr>\n",
       "      <th>4460</th>\n",
       "      <td>80039602</td>\n",
       "      <td>Movie</td>\n",
       "      <td>Skin Trade</td>\n",
       "      <td>Ekachai Uekrongtham</td>\n",
       "      <td>Dolph Lundgren, Tony Jaa, Ron Perlman, Celina ...</td>\n",
       "      <td>Thailand, Canada, United States</td>\n",
       "      <td>December 17, 2018</td>\n",
       "      <td>2014</td>\n",
       "      <td>R</td>\n",
       "      <td>96 min</td>\n",
       "      <td>Action &amp; Adventure</td>\n",
       "      <td>A New Jersey detective whose family was killed...</td>\n",
       "    </tr>\n",
       "  </tbody>\n",
       "</table>\n",
       "</div>"
      ],
      "text/plain": [
       "       show_id     type                   title             director  \\\n",
       "6021  81008236  TV Show  COMEDIANS of the world                        \n",
       "4117  80223271    Movie       Nothing to Lose 2   Alexandre Avancini   \n",
       "4460  80039602    Movie              Skin Trade  Ekachai Uekrongtham   \n",
       "\n",
       "                                                   cast  \\\n",
       "6021  Neal Brennan, Chris D'Elia, Nicole Byer, Nick ...   \n",
       "4117  Petrônio Gontijo, Day Mesquita, Beth Goulart, ...   \n",
       "4460  Dolph Lundgren, Tony Jaa, Ron Perlman, Celina ...   \n",
       "\n",
       "                              country         date_added  release_year rating  \\\n",
       "6021                    United States    January 1, 2019          2019  TV-MA   \n",
       "4117                           Brazil   December 7, 2019          2019  PG-13   \n",
       "4460  Thailand, Canada, United States  December 17, 2018          2014      R   \n",
       "\n",
       "        duration                                          listed_in  \\\n",
       "6021  13 Seasons          Stand-Up Comedy & Talk Shows, TV Comedies   \n",
       "4117      97 min  Dramas, Faith & Spirituality, International Mo...   \n",
       "4460      96 min                                 Action & Adventure   \n",
       "\n",
       "                                            description  \n",
       "6021  This global stand-up comedy series features a ...  \n",
       "4117  As controversy surrounds the evangelical churc...  \n",
       "4460  A New Jersey detective whose family was killed...  "
      ]
     },
     "execution_count": 3,
     "metadata": {},
     "output_type": "execute_result"
    }
   ],
   "source": [
    "print(df['show_id'].shape[0])\n",
    "print(len(df['show_id'].unique()))\n",
    "df.sample(3)"
   ]
  },
  {
   "cell_type": "code",
   "execution_count": 4,
   "id": "b7e88166",
   "metadata": {},
   "outputs": [],
   "source": [
    "actors_df = df['cast'].str.split(', ')"
   ]
  },
  {
   "cell_type": "code",
   "execution_count": 5,
   "id": "dfe827d3",
   "metadata": {},
   "outputs": [
    {
     "data": {
      "text/plain": [
       "27405"
      ]
     },
     "execution_count": 5,
     "metadata": {},
     "output_type": "execute_result"
    }
   ],
   "source": [
    "actors = set()\n",
    "for line in actors_df:\n",
    "    for actor in line:\n",
    "        t = actor.strip()\n",
    "        if t != '':\n",
    "            actors.add(t)\n",
    "len(actors)"
   ]
  },
  {
   "cell_type": "code",
   "execution_count": 6,
   "id": "60b42c6b",
   "metadata": {},
   "outputs": [],
   "source": [
    "shows = df['title'].unique()"
   ]
  },
  {
   "cell_type": "code",
   "execution_count": 7,
   "id": "098ae895",
   "metadata": {},
   "outputs": [],
   "source": [
    "with con: \n",
    "    cur.execute(\"\"\"\n",
    "        CREATE TABLE IF NOT EXISTS show (\n",
    "            id INTEGER NOT NULL PRIMARY KEY AUTOINCREMENT,\n",
    "            name TEXT\n",
    "        );\n",
    "    \"\"\")"
   ]
  },
  {
   "cell_type": "code",
   "execution_count": 8,
   "id": "81fb9d49",
   "metadata": {},
   "outputs": [],
   "source": [
    "with con:\n",
    "    for show in shows:\n",
    "        cur.execute(\"INSERT INTO show (name) values(?)\", (show,))"
   ]
  },
  {
   "cell_type": "code",
   "execution_count": 9,
   "id": "ce050679",
   "metadata": {},
   "outputs": [],
   "source": [
    "with con: \n",
    "    cur.execute(\"\"\"\n",
    "        CREATE TABLE IF NOT EXISTS actor (\n",
    "            id INTEGER NOT NULL PRIMARY KEY AUTOINCREMENT,\n",
    "            name TEXT\n",
    "        );\n",
    "    \"\"\")"
   ]
  },
  {
   "cell_type": "code",
   "execution_count": 10,
   "id": "810568af",
   "metadata": {},
   "outputs": [],
   "source": [
    "with con:\n",
    "    for actor in actors:\n",
    "        cur.execute(\"INSERT INTO actor (name) values(?)\", (actor,))"
   ]
  },
  {
   "cell_type": "code",
   "execution_count": 11,
   "id": "696b38cc",
   "metadata": {},
   "outputs": [
    {
     "data": {
      "text/html": [
       "<div>\n",
       "<style scoped>\n",
       "    .dataframe tbody tr th:only-of-type {\n",
       "        vertical-align: middle;\n",
       "    }\n",
       "\n",
       "    .dataframe tbody tr th {\n",
       "        vertical-align: top;\n",
       "    }\n",
       "\n",
       "    .dataframe thead th {\n",
       "        text-align: right;\n",
       "    }\n",
       "</style>\n",
       "<table border=\"1\" class=\"dataframe\">\n",
       "  <thead>\n",
       "    <tr style=\"text-align: right;\">\n",
       "      <th></th>\n",
       "      <th>name</th>\n",
       "    </tr>\n",
       "    <tr>\n",
       "      <th>id</th>\n",
       "      <th></th>\n",
       "    </tr>\n",
       "  </thead>\n",
       "  <tbody>\n",
       "    <tr>\n",
       "      <th>1</th>\n",
       "      <td>Ryuzo Hasuike</td>\n",
       "    </tr>\n",
       "    <tr>\n",
       "      <th>2</th>\n",
       "      <td>Scott Shepherd</td>\n",
       "    </tr>\n",
       "    <tr>\n",
       "      <th>3</th>\n",
       "      <td>Chris Evans</td>\n",
       "    </tr>\n",
       "    <tr>\n",
       "      <th>4</th>\n",
       "      <td>Melany Bennet</td>\n",
       "    </tr>\n",
       "    <tr>\n",
       "      <th>5</th>\n",
       "      <td>Jay Duffy</td>\n",
       "    </tr>\n",
       "    <tr>\n",
       "      <th>...</th>\n",
       "      <td>...</td>\n",
       "    </tr>\n",
       "    <tr>\n",
       "      <th>27401</th>\n",
       "      <td>Tomás Ottaviano</td>\n",
       "    </tr>\n",
       "    <tr>\n",
       "      <th>27402</th>\n",
       "      <td>Helge Schneider</td>\n",
       "    </tr>\n",
       "    <tr>\n",
       "      <th>27403</th>\n",
       "      <td>Petey Majik Nguyen</td>\n",
       "    </tr>\n",
       "    <tr>\n",
       "      <th>27404</th>\n",
       "      <td>Sara Craddick</td>\n",
       "    </tr>\n",
       "    <tr>\n",
       "      <th>27405</th>\n",
       "      <td>Gingle Wang</td>\n",
       "    </tr>\n",
       "  </tbody>\n",
       "</table>\n",
       "<p>27405 rows × 1 columns</p>\n",
       "</div>"
      ],
      "text/plain": [
       "                     name\n",
       "id                       \n",
       "1           Ryuzo Hasuike\n",
       "2          Scott Shepherd\n",
       "3             Chris Evans\n",
       "4           Melany Bennet\n",
       "5               Jay Duffy\n",
       "...                   ...\n",
       "27401     Tomás Ottaviano\n",
       "27402     Helge Schneider\n",
       "27403  Petey Majik Nguyen\n",
       "27404       Sara Craddick\n",
       "27405         Gingle Wang\n",
       "\n",
       "[27405 rows x 1 columns]"
      ]
     },
     "execution_count": 11,
     "metadata": {},
     "output_type": "execute_result"
    }
   ],
   "source": [
    "df_actor = pd.read_sql(\"select * from actor\", sqlite3.connect(\"netflix.sqlite\"), index_col='id')\n",
    "df_actor"
   ]
  },
  {
   "cell_type": "code",
   "execution_count": 12,
   "id": "fe4a0c19",
   "metadata": {},
   "outputs": [
    {
     "data": {
      "text/html": [
       "<div>\n",
       "<style scoped>\n",
       "    .dataframe tbody tr th:only-of-type {\n",
       "        vertical-align: middle;\n",
       "    }\n",
       "\n",
       "    .dataframe tbody tr th {\n",
       "        vertical-align: top;\n",
       "    }\n",
       "\n",
       "    .dataframe thead th {\n",
       "        text-align: right;\n",
       "    }\n",
       "</style>\n",
       "<table border=\"1\" class=\"dataframe\">\n",
       "  <thead>\n",
       "    <tr style=\"text-align: right;\">\n",
       "      <th></th>\n",
       "      <th>name</th>\n",
       "    </tr>\n",
       "    <tr>\n",
       "      <th>id</th>\n",
       "      <th></th>\n",
       "    </tr>\n",
       "  </thead>\n",
       "  <tbody>\n",
       "    <tr>\n",
       "      <th>1</th>\n",
       "      <td>Norm of the North: King Sized Adventure</td>\n",
       "    </tr>\n",
       "    <tr>\n",
       "      <th>2</th>\n",
       "      <td>Jandino: Whatever it Takes</td>\n",
       "    </tr>\n",
       "    <tr>\n",
       "      <th>3</th>\n",
       "      <td>Transformers Prime</td>\n",
       "    </tr>\n",
       "    <tr>\n",
       "      <th>4</th>\n",
       "      <td>Transformers: Robots in Disguise</td>\n",
       "    </tr>\n",
       "    <tr>\n",
       "      <th>5</th>\n",
       "      <td>#realityhigh</td>\n",
       "    </tr>\n",
       "    <tr>\n",
       "      <th>...</th>\n",
       "      <td>...</td>\n",
       "    </tr>\n",
       "    <tr>\n",
       "      <th>6168</th>\n",
       "      <td>Kikoriki</td>\n",
       "    </tr>\n",
       "    <tr>\n",
       "      <th>6169</th>\n",
       "      <td>Red vs. Blue</td>\n",
       "    </tr>\n",
       "    <tr>\n",
       "      <th>6170</th>\n",
       "      <td>Maron</td>\n",
       "    </tr>\n",
       "    <tr>\n",
       "      <th>6171</th>\n",
       "      <td>A Young Doctor's Notebook and Other Stories</td>\n",
       "    </tr>\n",
       "    <tr>\n",
       "      <th>6172</th>\n",
       "      <td>Friends</td>\n",
       "    </tr>\n",
       "  </tbody>\n",
       "</table>\n",
       "<p>6172 rows × 1 columns</p>\n",
       "</div>"
      ],
      "text/plain": [
       "                                             name\n",
       "id                                               \n",
       "1         Norm of the North: King Sized Adventure\n",
       "2                      Jandino: Whatever it Takes\n",
       "3                              Transformers Prime\n",
       "4                Transformers: Robots in Disguise\n",
       "5                                    #realityhigh\n",
       "...                                           ...\n",
       "6168                                     Kikoriki\n",
       "6169                                 Red vs. Blue\n",
       "6170                                        Maron\n",
       "6171  A Young Doctor's Notebook and Other Stories\n",
       "6172                                      Friends\n",
       "\n",
       "[6172 rows x 1 columns]"
      ]
     },
     "execution_count": 12,
     "metadata": {},
     "output_type": "execute_result"
    }
   ],
   "source": [
    "df_show = pd.read_sql(\"select * from show\", sqlite3.connect(\"netflix.sqlite\"), index_col='id')\n",
    "df_show"
   ]
  },
  {
   "cell_type": "code",
   "execution_count": 13,
   "id": "fff115a6",
   "metadata": {},
   "outputs": [],
   "source": [
    "with con: \n",
    "    cur.execute(\"\"\"\n",
    "        CREATE TABLE IF NOT EXISTS actor_show (\n",
    "            actor TEXT,\n",
    "            show_id INT\n",
    "        );\n",
    "    \"\"\")"
   ]
  },
  {
   "cell_type": "code",
   "execution_count": 14,
   "id": "d3204c2f",
   "metadata": {},
   "outputs": [
    {
     "name": "stdout",
     "output_type": "stream",
     "text": [
      "CPU times: total: 1min 22s\n",
      "Wall time: 5min 43s\n"
     ]
    }
   ],
   "source": [
    "%%time\n",
    "count_last_upd = len(df)\n",
    "for i in range(len(df) - count_last_upd, len(df)):\n",
    "    for actor in actors_df.iloc[i]:\n",
    "        if not actor:\n",
    "            continue\n",
    "        with con:\n",
    "            cur.execute(\"INSERT INTO actor_show (actor, show_id) values(?, ?)\", (actor, int(df.iloc[i]['show_id'])))"
   ]
  },
  {
   "cell_type": "code",
   "execution_count": 15,
   "id": "72630fec",
   "metadata": {},
   "outputs": [
    {
     "data": {
      "text/html": [
       "<div>\n",
       "<style scoped>\n",
       "    .dataframe tbody tr th:only-of-type {\n",
       "        vertical-align: middle;\n",
       "    }\n",
       "\n",
       "    .dataframe tbody tr th {\n",
       "        vertical-align: top;\n",
       "    }\n",
       "\n",
       "    .dataframe thead th {\n",
       "        text-align: right;\n",
       "    }\n",
       "</style>\n",
       "<table border=\"1\" class=\"dataframe\">\n",
       "  <thead>\n",
       "    <tr style=\"text-align: right;\">\n",
       "      <th></th>\n",
       "      <th>actor</th>\n",
       "      <th>show_id</th>\n",
       "    </tr>\n",
       "  </thead>\n",
       "  <tbody>\n",
       "    <tr>\n",
       "      <th>0</th>\n",
       "      <td>Alan Marriott</td>\n",
       "      <td>81145628</td>\n",
       "    </tr>\n",
       "    <tr>\n",
       "      <th>1</th>\n",
       "      <td>Andrew Toth</td>\n",
       "      <td>81145628</td>\n",
       "    </tr>\n",
       "    <tr>\n",
       "      <th>2</th>\n",
       "      <td>Brian Dobson</td>\n",
       "      <td>81145628</td>\n",
       "    </tr>\n",
       "    <tr>\n",
       "      <th>3</th>\n",
       "      <td>Cole Howard</td>\n",
       "      <td>81145628</td>\n",
       "    </tr>\n",
       "    <tr>\n",
       "      <th>4</th>\n",
       "      <td>Jennifer Cameron</td>\n",
       "      <td>81145628</td>\n",
       "    </tr>\n",
       "    <tr>\n",
       "      <th>...</th>\n",
       "      <td>...</td>\n",
       "      <td>...</td>\n",
       "    </tr>\n",
       "    <tr>\n",
       "      <th>44306</th>\n",
       "      <td>Courteney Cox</td>\n",
       "      <td>70153404</td>\n",
       "    </tr>\n",
       "    <tr>\n",
       "      <th>44307</th>\n",
       "      <td>Lisa Kudrow</td>\n",
       "      <td>70153404</td>\n",
       "    </tr>\n",
       "    <tr>\n",
       "      <th>44308</th>\n",
       "      <td>Matt LeBlanc</td>\n",
       "      <td>70153404</td>\n",
       "    </tr>\n",
       "    <tr>\n",
       "      <th>44309</th>\n",
       "      <td>Matthew Perry</td>\n",
       "      <td>70153404</td>\n",
       "    </tr>\n",
       "    <tr>\n",
       "      <th>44310</th>\n",
       "      <td>David Schwimmer</td>\n",
       "      <td>70153404</td>\n",
       "    </tr>\n",
       "  </tbody>\n",
       "</table>\n",
       "<p>44311 rows × 2 columns</p>\n",
       "</div>"
      ],
      "text/plain": [
       "                  actor   show_id\n",
       "0         Alan Marriott  81145628\n",
       "1           Andrew Toth  81145628\n",
       "2          Brian Dobson  81145628\n",
       "3           Cole Howard  81145628\n",
       "4      Jennifer Cameron  81145628\n",
       "...                 ...       ...\n",
       "44306     Courteney Cox  70153404\n",
       "44307       Lisa Kudrow  70153404\n",
       "44308      Matt LeBlanc  70153404\n",
       "44309     Matthew Perry  70153404\n",
       "44310   David Schwimmer  70153404\n",
       "\n",
       "[44311 rows x 2 columns]"
      ]
     },
     "execution_count": 15,
     "metadata": {},
     "output_type": "execute_result"
    }
   ],
   "source": [
    "df_as = pd.read_sql(\"select * from actor_show\", sqlite3.connect(\"netflix.sqlite\"))\n",
    "df_as"
   ]
  },
  {
   "cell_type": "code",
   "execution_count": 16,
   "id": "e56eb431",
   "metadata": {},
   "outputs": [
    {
     "data": {
      "text/plain": [
       "('John Paul Tremblay', 'Robb Wells')"
      ]
     },
     "execution_count": 16,
     "metadata": {},
     "output_type": "execute_result"
    }
   ],
   "source": [
    "with con: \n",
    "    cur.execute(\"\"\"\n",
    "        SELECT t1.actor as value_1,\n",
    "               t2.actor as value_2,\n",
    "               count(t1.show_id)\n",
    "        FROM actor_show t1\n",
    "        CROSS JOIN\n",
    "               actor_show t2\n",
    "        where t1.show_id = t2.show_id and t1.actor != t2.actor\n",
    "        group by t1.actor, t2.actor\n",
    "        order by count(t1.show_id) DESC\n",
    "        limit 1\n",
    "    \"\"\")\n",
    "cur.fetchone()[:-1]"
   ]
  },
  {
   "cell_type": "code",
   "execution_count": 17,
   "id": "a60a5ba6",
   "metadata": {},
   "outputs": [],
   "source": [
    "cur.close()"
   ]
  }
 ],
 "metadata": {
  "kernelspec": {
   "display_name": "Python 3 (ipykernel)",
   "language": "python",
   "name": "python3"
  },
  "language_info": {
   "codemirror_mode": {
    "name": "ipython",
    "version": 3
   },
   "file_extension": ".py",
   "mimetype": "text/x-python",
   "name": "python",
   "nbconvert_exporter": "python",
   "pygments_lexer": "ipython3",
   "version": "3.10.8"
  }
 },
 "nbformat": 4,
 "nbformat_minor": 5
}
